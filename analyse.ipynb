{
 "cells": [
  {
   "attachments": {},
   "cell_type": "markdown",
   "metadata": {},
   "source": [
    "# Demonstration of PandasAI \n",
    "PandasAI is the new cool kid on the block bringing `pandas`(https://pandas.pydata.org) and large language models (LLMs) together. This allows queries to be made on `DataFrame` objects with natural language prompts.\n",
    "\n",
    "## Preparation\n",
    "### Setting up environment\n",
    "We set up iPython-Kernel and other packages inside a virtual environment. For this, we use `virtualenv`. \n",
    "\n",
    "#### Example for Unix-based Systems:\n",
    "\n",
    "##### install virtualenv\n",
    "`pip3 install virtualenv`\n",
    "\n",
    "##### create a virtualenv\n",
    "`virtualenv pandasai_demo`\n",
    "\n",
    "##### activate the virtual environment\n",
    "`source pandasai_demo/bin/activate`\n",
    "\n",
    "Now that we have set up virtual environment, we can install required packages in the environment.\n",
    "\n",
    "`pip3 install -r requirements.txt`"
   ]
  },
  {
   "attachments": {},
   "cell_type": "markdown",
   "metadata": {},
   "source": [
    "## Demonstration\n",
    "We are going to compare functionality of `pandasai` and `pandas` native queries. For this, we use dataset about eCharging ports provided by Bundesnetzagentur of german federal government. Dataset is included in `raw_data/opendata_rkn_ladesaulen_in_de.json`, but can also be downloaded [here](https://open.nrw/dataset/deutschland-e-ladesaulen-ne). \n",
    "\n",
    "### Importing\n",
    "We are going to use OpenAI as LLM backend. There are lots of others to choose from."
   ]
  },
  {
   "cell_type": "code",
   "execution_count": 1,
   "metadata": {},
   "outputs": [],
   "source": [
    "import pandas as pd\n",
    "from pandasai import PandasAI\n",
    "from pandasai.llm.openai import OpenAI"
   ]
  },
  {
   "attachments": {},
   "cell_type": "markdown",
   "metadata": {},
   "source": [
    "For us to be able to use OpenAI backend, we must provide an API token from OpenAI. You can create a free account and get a token [here](https://platform.openai.com/account/api-keys). Replace \"<my_api_key>\" with your actual API key."
   ]
  },
  {
   "cell_type": "code",
   "execution_count": 2,
   "metadata": {},
   "outputs": [],
   "source": [
    "MY_API_TOKEN = \"<my_api_key>\"\n",
    "\n",
    "open_ai = OpenAI(api_token=MY_API_TOKEN)\n",
    "pdai = PandasAI(llm=open_ai, verbose=False, conversational=False)"
   ]
  },
  {
   "attachments": {},
   "cell_type": "markdown",
   "metadata": {},
   "source": [
    "Now we load the json file into a `DataFrame` with pandas."
   ]
  },
  {
   "cell_type": "code",
   "execution_count": 3,
   "metadata": {},
   "outputs": [],
   "source": [
    "json_path =  \"raw_data/opendata_rkn_ladesaulen_in_de.json\" \n",
    "df = pd.read_json(json_path)"
   ]
  },
  {
   "attachments": {},
   "cell_type": "markdown",
   "metadata": {},
   "source": [
    "Looking at `df`, we can see lots of data about charging ports with detailed locations."
   ]
  },
  {
   "cell_type": "code",
   "execution_count": 4,
   "metadata": {},
   "outputs": [
    {
     "data": {
      "text/html": [
       "<div>\n",
       "<style scoped>\n",
       "    .dataframe tbody tr th:only-of-type {\n",
       "        vertical-align: middle;\n",
       "    }\n",
       "\n",
       "    .dataframe tbody tr th {\n",
       "        vertical-align: top;\n",
       "    }\n",
       "\n",
       "    .dataframe thead th {\n",
       "        text-align: right;\n",
       "    }\n",
       "</style>\n",
       "<table border=\"1\" class=\"dataframe\">\n",
       "  <thead>\n",
       "    <tr style=\"text-align: right;\">\n",
       "      <th></th>\n",
       "      <th>betreiber</th>\n",
       "      <th>art_der_ladeeinrichung</th>\n",
       "      <th>anzahl_ladepunkte</th>\n",
       "      <th>anschlussleistung</th>\n",
       "      <th>steckertypen1</th>\n",
       "      <th>steckertypen2</th>\n",
       "      <th>steckertypen3</th>\n",
       "      <th>steckertypen4</th>\n",
       "      <th>p1_kw</th>\n",
       "      <th>p2_kw</th>\n",
       "      <th>p3_kw</th>\n",
       "      <th>p4_kw</th>\n",
       "      <th>kreis_kreisfreie_stadt</th>\n",
       "      <th>ort</th>\n",
       "      <th>postleitzahl</th>\n",
       "      <th>strasse</th>\n",
       "      <th>hausnummer</th>\n",
       "      <th>adresszusatz</th>\n",
       "      <th>inbetriebnahmedatum</th>\n",
       "      <th>koordinaten</th>\n",
       "    </tr>\n",
       "  </thead>\n",
       "  <tbody>\n",
       "    <tr>\n",
       "      <th>0</th>\n",
       "      <td>FairEnergie GmbH</td>\n",
       "      <td>Normalladeeinrichtung</td>\n",
       "      <td>2</td>\n",
       "      <td>44.0</td>\n",
       "      <td>AC Steckdose Typ 2</td>\n",
       "      <td>AC Steckdose Typ 2</td>\n",
       "      <td>None</td>\n",
       "      <td>None</td>\n",
       "      <td>22.0</td>\n",
       "      <td>22.0</td>\n",
       "      <td>NaN</td>\n",
       "      <td>NaN</td>\n",
       "      <td>Landkreis Reutlingen</td>\n",
       "      <td>Reutlingen</td>\n",
       "      <td>72760</td>\n",
       "      <td>Sankt-Peter-Straße</td>\n",
       "      <td>4</td>\n",
       "      <td>None</td>\n",
       "      <td>2020-05-13</td>\n",
       "      <td>{'lon': 9.20186, 'lat': 48.49808}</td>\n",
       "    </tr>\n",
       "    <tr>\n",
       "      <th>1</th>\n",
       "      <td>FairEnergie GmbH</td>\n",
       "      <td>Normalladeeinrichtung</td>\n",
       "      <td>2</td>\n",
       "      <td>44.0</td>\n",
       "      <td>AC Steckdose Typ 2</td>\n",
       "      <td>AC Steckdose Typ 2</td>\n",
       "      <td>None</td>\n",
       "      <td>None</td>\n",
       "      <td>22.0</td>\n",
       "      <td>22.0</td>\n",
       "      <td>NaN</td>\n",
       "      <td>NaN</td>\n",
       "      <td>Landkreis Reutlingen</td>\n",
       "      <td>Reutlingen</td>\n",
       "      <td>72760</td>\n",
       "      <td>Alice-Haarburger-Straße</td>\n",
       "      <td>1</td>\n",
       "      <td>None</td>\n",
       "      <td>2020-12-11</td>\n",
       "      <td>{'lon': 9.199504, 'lat': 48.501138}</td>\n",
       "    </tr>\n",
       "    <tr>\n",
       "      <th>2</th>\n",
       "      <td>FairEnergie GmbH</td>\n",
       "      <td>Normalladeeinrichtung</td>\n",
       "      <td>2</td>\n",
       "      <td>44.0</td>\n",
       "      <td>AC Steckdose Typ 2</td>\n",
       "      <td>AC Steckdose Typ 2</td>\n",
       "      <td>None</td>\n",
       "      <td>None</td>\n",
       "      <td>22.0</td>\n",
       "      <td>22.0</td>\n",
       "      <td>NaN</td>\n",
       "      <td>NaN</td>\n",
       "      <td>Landkreis Reutlingen</td>\n",
       "      <td>Reutlingen</td>\n",
       "      <td>72762</td>\n",
       "      <td>Pestalozzistraße</td>\n",
       "      <td>7</td>\n",
       "      <td>None</td>\n",
       "      <td>2020-05-13</td>\n",
       "      <td>{'lon': 9.19373, 'lat': 48.48499}</td>\n",
       "    </tr>\n",
       "    <tr>\n",
       "      <th>3</th>\n",
       "      <td>FairEnergie GmbH</td>\n",
       "      <td>Normalladeeinrichtung</td>\n",
       "      <td>2</td>\n",
       "      <td>44.0</td>\n",
       "      <td>AC Steckdose Typ 2</td>\n",
       "      <td>AC Steckdose Typ 2</td>\n",
       "      <td>None</td>\n",
       "      <td>None</td>\n",
       "      <td>22.0</td>\n",
       "      <td>22.0</td>\n",
       "      <td>NaN</td>\n",
       "      <td>NaN</td>\n",
       "      <td>Landkreis Reutlingen</td>\n",
       "      <td>Reutlingen</td>\n",
       "      <td>72762</td>\n",
       "      <td>Alteburgstraße</td>\n",
       "      <td>11</td>\n",
       "      <td>None</td>\n",
       "      <td>2020-05-13</td>\n",
       "      <td>{'lon': 9.20713, 'lat': 48.48809}</td>\n",
       "    </tr>\n",
       "    <tr>\n",
       "      <th>4</th>\n",
       "      <td>FairEnergie GmbH</td>\n",
       "      <td>Schnellladeeinrichtung</td>\n",
       "      <td>2</td>\n",
       "      <td>72.0</td>\n",
       "      <td>DC Kupplung Combo, DC CHAdeMO</td>\n",
       "      <td>AC Steckdose Typ 2</td>\n",
       "      <td>None</td>\n",
       "      <td>None</td>\n",
       "      <td>50.0</td>\n",
       "      <td>22.0</td>\n",
       "      <td>NaN</td>\n",
       "      <td>NaN</td>\n",
       "      <td>Landkreis Reutlingen</td>\n",
       "      <td>Reutlingen</td>\n",
       "      <td>72762</td>\n",
       "      <td>Oskar-Kalbfell-Platz</td>\n",
       "      <td>8</td>\n",
       "      <td>None</td>\n",
       "      <td>2020-05-13</td>\n",
       "      <td>{'lon': 9.20958, 'lat': 48.48996}</td>\n",
       "    </tr>\n",
       "    <tr>\n",
       "      <th>...</th>\n",
       "      <td>...</td>\n",
       "      <td>...</td>\n",
       "      <td>...</td>\n",
       "      <td>...</td>\n",
       "      <td>...</td>\n",
       "      <td>...</td>\n",
       "      <td>...</td>\n",
       "      <td>...</td>\n",
       "      <td>...</td>\n",
       "      <td>...</td>\n",
       "      <td>...</td>\n",
       "      <td>...</td>\n",
       "      <td>...</td>\n",
       "      <td>...</td>\n",
       "      <td>...</td>\n",
       "      <td>...</td>\n",
       "      <td>...</td>\n",
       "      <td>...</td>\n",
       "      <td>...</td>\n",
       "      <td>...</td>\n",
       "    </tr>\n",
       "    <tr>\n",
       "      <th>36003</th>\n",
       "      <td>OUTLETCITY METZINGEN</td>\n",
       "      <td>Normalladeeinrichtung</td>\n",
       "      <td>2</td>\n",
       "      <td>22.0</td>\n",
       "      <td>AC Steckdose Typ 2</td>\n",
       "      <td>AC Steckdose Typ 2</td>\n",
       "      <td>None</td>\n",
       "      <td>None</td>\n",
       "      <td>22.0</td>\n",
       "      <td>22.0</td>\n",
       "      <td>NaN</td>\n",
       "      <td>NaN</td>\n",
       "      <td>Landkreis Reutlingen</td>\n",
       "      <td>Metzingen</td>\n",
       "      <td>72555</td>\n",
       "      <td>Maienwaldstraße</td>\n",
       "      <td>2</td>\n",
       "      <td>Parkhaus Ebene 2</td>\n",
       "      <td>2022-07-25</td>\n",
       "      <td>{'lon': 9.27754, 'lat': 48.53256}</td>\n",
       "    </tr>\n",
       "    <tr>\n",
       "      <th>36004</th>\n",
       "      <td>OUTLETCITY METZINGEN</td>\n",
       "      <td>Normalladeeinrichtung</td>\n",
       "      <td>1</td>\n",
       "      <td>11.0</td>\n",
       "      <td>AC Steckdose Typ 2</td>\n",
       "      <td>None</td>\n",
       "      <td>None</td>\n",
       "      <td>None</td>\n",
       "      <td>11.0</td>\n",
       "      <td>NaN</td>\n",
       "      <td>NaN</td>\n",
       "      <td>NaN</td>\n",
       "      <td>Landkreis Reutlingen</td>\n",
       "      <td>Metzingen</td>\n",
       "      <td>72555</td>\n",
       "      <td>Friedrich-Herrmann-Str.</td>\n",
       "      <td>1</td>\n",
       "      <td>Parkplatz</td>\n",
       "      <td>2022-08-15</td>\n",
       "      <td>{'lon': 9.27918, 'lat': 48.53953}</td>\n",
       "    </tr>\n",
       "    <tr>\n",
       "      <th>36005</th>\n",
       "      <td>EnBW mobility+ AG und Co.KG</td>\n",
       "      <td>Normalladeeinrichtung</td>\n",
       "      <td>2</td>\n",
       "      <td>30.0</td>\n",
       "      <td>AC Steckdose Typ 2, AC Schuko</td>\n",
       "      <td>AC Steckdose Typ 2, AC Schuko</td>\n",
       "      <td>None</td>\n",
       "      <td>None</td>\n",
       "      <td>22.0</td>\n",
       "      <td>22.0</td>\n",
       "      <td>NaN</td>\n",
       "      <td>NaN</td>\n",
       "      <td>Landkreis Reutlingen</td>\n",
       "      <td>Dettingen</td>\n",
       "      <td>72581</td>\n",
       "      <td>Rathausplatz</td>\n",
       "      <td>2</td>\n",
       "      <td>None</td>\n",
       "      <td>2020-09-29</td>\n",
       "      <td>{'lon': 9.3464847, 'lat': 48.5288533}</td>\n",
       "    </tr>\n",
       "    <tr>\n",
       "      <th>36006</th>\n",
       "      <td>E.ON Drive GmbH</td>\n",
       "      <td>Normalladeeinrichtung</td>\n",
       "      <td>2</td>\n",
       "      <td>33.0</td>\n",
       "      <td>AC Steckdose Typ 2</td>\n",
       "      <td>AC Steckdose Typ 2</td>\n",
       "      <td>None</td>\n",
       "      <td>None</td>\n",
       "      <td>11.0</td>\n",
       "      <td>22.0</td>\n",
       "      <td>NaN</td>\n",
       "      <td>NaN</td>\n",
       "      <td>Landkreis Altötting</td>\n",
       "      <td>Burghausen</td>\n",
       "      <td>84489</td>\n",
       "      <td>Hauserbauernstraße</td>\n",
       "      <td>7</td>\n",
       "      <td>None</td>\n",
       "      <td>2018-09-20</td>\n",
       "      <td>{'lon': 12.833134, 'lat': 48.171422}</td>\n",
       "    </tr>\n",
       "    <tr>\n",
       "      <th>36007</th>\n",
       "      <td>E.ON Drive GmbH</td>\n",
       "      <td>Normalladeeinrichtung</td>\n",
       "      <td>2</td>\n",
       "      <td>33.0</td>\n",
       "      <td>AC Steckdose Typ 2</td>\n",
       "      <td>AC Steckdose Typ 2</td>\n",
       "      <td>None</td>\n",
       "      <td>None</td>\n",
       "      <td>11.0</td>\n",
       "      <td>22.0</td>\n",
       "      <td>NaN</td>\n",
       "      <td>NaN</td>\n",
       "      <td>Landkreis Altötting</td>\n",
       "      <td>Burghausen</td>\n",
       "      <td>84489</td>\n",
       "      <td>Mehringer Straße</td>\n",
       "      <td>45</td>\n",
       "      <td>None</td>\n",
       "      <td>2018-09-20</td>\n",
       "      <td>{'lon': 12.827912, 'lat': 48.170243}</td>\n",
       "    </tr>\n",
       "  </tbody>\n",
       "</table>\n",
       "<p>36008 rows × 20 columns</p>\n",
       "</div>"
      ],
      "text/plain": [
       "                         betreiber  art_der_ladeeinrichung  anzahl_ladepunkte   \n",
       "0                 FairEnergie GmbH   Normalladeeinrichtung                  2  \\\n",
       "1                 FairEnergie GmbH   Normalladeeinrichtung                  2   \n",
       "2                 FairEnergie GmbH   Normalladeeinrichtung                  2   \n",
       "3                 FairEnergie GmbH   Normalladeeinrichtung                  2   \n",
       "4                 FairEnergie GmbH  Schnellladeeinrichtung                  2   \n",
       "...                            ...                     ...                ...   \n",
       "36003         OUTLETCITY METZINGEN   Normalladeeinrichtung                  2   \n",
       "36004         OUTLETCITY METZINGEN   Normalladeeinrichtung                  1   \n",
       "36005  EnBW mobility+ AG und Co.KG   Normalladeeinrichtung                  2   \n",
       "36006              E.ON Drive GmbH   Normalladeeinrichtung                  2   \n",
       "36007              E.ON Drive GmbH   Normalladeeinrichtung                  2   \n",
       "\n",
       "       anschlussleistung                  steckertypen1   \n",
       "0                   44.0             AC Steckdose Typ 2  \\\n",
       "1                   44.0             AC Steckdose Typ 2   \n",
       "2                   44.0             AC Steckdose Typ 2   \n",
       "3                   44.0             AC Steckdose Typ 2   \n",
       "4                   72.0  DC Kupplung Combo, DC CHAdeMO   \n",
       "...                  ...                            ...   \n",
       "36003               22.0             AC Steckdose Typ 2   \n",
       "36004               11.0             AC Steckdose Typ 2   \n",
       "36005               30.0  AC Steckdose Typ 2, AC Schuko   \n",
       "36006               33.0             AC Steckdose Typ 2   \n",
       "36007               33.0             AC Steckdose Typ 2   \n",
       "\n",
       "                       steckertypen2 steckertypen3 steckertypen4  p1_kw   \n",
       "0                 AC Steckdose Typ 2          None          None   22.0  \\\n",
       "1                 AC Steckdose Typ 2          None          None   22.0   \n",
       "2                 AC Steckdose Typ 2          None          None   22.0   \n",
       "3                 AC Steckdose Typ 2          None          None   22.0   \n",
       "4                 AC Steckdose Typ 2          None          None   50.0   \n",
       "...                              ...           ...           ...    ...   \n",
       "36003             AC Steckdose Typ 2          None          None   22.0   \n",
       "36004                           None          None          None   11.0   \n",
       "36005  AC Steckdose Typ 2, AC Schuko          None          None   22.0   \n",
       "36006             AC Steckdose Typ 2          None          None   11.0   \n",
       "36007             AC Steckdose Typ 2          None          None   11.0   \n",
       "\n",
       "       p2_kw  p3_kw  p4_kw kreis_kreisfreie_stadt         ort  postleitzahl   \n",
       "0       22.0    NaN    NaN   Landkreis Reutlingen  Reutlingen         72760  \\\n",
       "1       22.0    NaN    NaN   Landkreis Reutlingen  Reutlingen         72760   \n",
       "2       22.0    NaN    NaN   Landkreis Reutlingen  Reutlingen         72762   \n",
       "3       22.0    NaN    NaN   Landkreis Reutlingen  Reutlingen         72762   \n",
       "4       22.0    NaN    NaN   Landkreis Reutlingen  Reutlingen         72762   \n",
       "...      ...    ...    ...                    ...         ...           ...   \n",
       "36003   22.0    NaN    NaN   Landkreis Reutlingen   Metzingen         72555   \n",
       "36004    NaN    NaN    NaN   Landkreis Reutlingen   Metzingen         72555   \n",
       "36005   22.0    NaN    NaN   Landkreis Reutlingen   Dettingen         72581   \n",
       "36006   22.0    NaN    NaN    Landkreis Altötting  Burghausen         84489   \n",
       "36007   22.0    NaN    NaN    Landkreis Altötting  Burghausen         84489   \n",
       "\n",
       "                       strasse hausnummer      adresszusatz   \n",
       "0           Sankt-Peter-Straße          4              None  \\\n",
       "1      Alice-Haarburger-Straße          1              None   \n",
       "2             Pestalozzistraße          7              None   \n",
       "3               Alteburgstraße         11              None   \n",
       "4         Oskar-Kalbfell-Platz          8              None   \n",
       "...                        ...        ...               ...   \n",
       "36003          Maienwaldstraße          2  Parkhaus Ebene 2   \n",
       "36004  Friedrich-Herrmann-Str.          1         Parkplatz   \n",
       "36005             Rathausplatz          2              None   \n",
       "36006       Hauserbauernstraße          7              None   \n",
       "36007         Mehringer Straße         45              None   \n",
       "\n",
       "      inbetriebnahmedatum                            koordinaten  \n",
       "0              2020-05-13      {'lon': 9.20186, 'lat': 48.49808}  \n",
       "1              2020-12-11    {'lon': 9.199504, 'lat': 48.501138}  \n",
       "2              2020-05-13      {'lon': 9.19373, 'lat': 48.48499}  \n",
       "3              2020-05-13      {'lon': 9.20713, 'lat': 48.48809}  \n",
       "4              2020-05-13      {'lon': 9.20958, 'lat': 48.48996}  \n",
       "...                   ...                                    ...  \n",
       "36003          2022-07-25      {'lon': 9.27754, 'lat': 48.53256}  \n",
       "36004          2022-08-15      {'lon': 9.27918, 'lat': 48.53953}  \n",
       "36005          2020-09-29  {'lon': 9.3464847, 'lat': 48.5288533}  \n",
       "36006          2018-09-20   {'lon': 12.833134, 'lat': 48.171422}  \n",
       "36007          2018-09-20   {'lon': 12.827912, 'lat': 48.170243}  \n",
       "\n",
       "[36008 rows x 20 columns]"
      ]
     },
     "execution_count": 4,
     "metadata": {},
     "output_type": "execute_result"
    }
   ],
   "source": [
    "df"
   ]
  },
  {
   "attachments": {},
   "cell_type": "markdown",
   "metadata": {},
   "source": [
    "Lets create a query that returns rows containing information about charging ports in city of Bonn only. Since the dataset is in german, we use german language query."
   ]
  },
  {
   "cell_type": "code",
   "execution_count": 5,
   "metadata": {},
   "outputs": [
    {
     "data": {
      "text/html": [
       "<div>\n",
       "<style scoped>\n",
       "    .dataframe tbody tr th:only-of-type {\n",
       "        vertical-align: middle;\n",
       "    }\n",
       "\n",
       "    .dataframe tbody tr th {\n",
       "        vertical-align: top;\n",
       "    }\n",
       "\n",
       "    .dataframe thead th {\n",
       "        text-align: right;\n",
       "    }\n",
       "</style>\n",
       "<table border=\"1\" class=\"dataframe\">\n",
       "  <thead>\n",
       "    <tr style=\"text-align: right;\">\n",
       "      <th></th>\n",
       "      <th>betreiber</th>\n",
       "    </tr>\n",
       "  </thead>\n",
       "  <tbody>\n",
       "    <tr>\n",
       "      <th>7423</th>\n",
       "      <td>Energie- und Wasserversorgung Bonn/Rhein-Sieg ...</td>\n",
       "    </tr>\n",
       "    <tr>\n",
       "      <th>7424</th>\n",
       "      <td>Energie- und Wasserversorgung Bonn/Rhein-Sieg ...</td>\n",
       "    </tr>\n",
       "    <tr>\n",
       "      <th>7425</th>\n",
       "      <td>Energie- und Wasserversorgung Bonn/Rhein-Sieg ...</td>\n",
       "    </tr>\n",
       "    <tr>\n",
       "      <th>7426</th>\n",
       "      <td>Energie- und Wasserversorgung Bonn/Rhein-Sieg ...</td>\n",
       "    </tr>\n",
       "    <tr>\n",
       "      <th>7427</th>\n",
       "      <td>Energie- und Wasserversorgung Bonn/Rhein-Sieg ...</td>\n",
       "    </tr>\n",
       "    <tr>\n",
       "      <th>...</th>\n",
       "      <td>...</td>\n",
       "    </tr>\n",
       "    <tr>\n",
       "      <th>24771</th>\n",
       "      <td>Energie- und Wasserversorgung Bonn/Rhein-Sieg ...</td>\n",
       "    </tr>\n",
       "    <tr>\n",
       "      <th>24772</th>\n",
       "      <td>Energie- und Wasserversorgung Bonn/Rhein-Sieg ...</td>\n",
       "    </tr>\n",
       "    <tr>\n",
       "      <th>24773</th>\n",
       "      <td>Energie- und Wasserversorgung Bonn/Rhein-Sieg ...</td>\n",
       "    </tr>\n",
       "    <tr>\n",
       "      <th>24774</th>\n",
       "      <td>Energie- und Wasserversorgung Bonn/Rhein-Sieg ...</td>\n",
       "    </tr>\n",
       "    <tr>\n",
       "      <th>24775</th>\n",
       "      <td>Energie- und Wasserversorgung Bonn/Rhein-Sieg ...</td>\n",
       "    </tr>\n",
       "  </tbody>\n",
       "</table>\n",
       "<p>133 rows × 1 columns</p>\n",
       "</div>"
      ],
      "text/plain": [
       "                                               betreiber\n",
       "7423   Energie- und Wasserversorgung Bonn/Rhein-Sieg ...\n",
       "7424   Energie- und Wasserversorgung Bonn/Rhein-Sieg ...\n",
       "7425   Energie- und Wasserversorgung Bonn/Rhein-Sieg ...\n",
       "7426   Energie- und Wasserversorgung Bonn/Rhein-Sieg ...\n",
       "7427   Energie- und Wasserversorgung Bonn/Rhein-Sieg ...\n",
       "...                                                  ...\n",
       "24771  Energie- und Wasserversorgung Bonn/Rhein-Sieg ...\n",
       "24772  Energie- und Wasserversorgung Bonn/Rhein-Sieg ...\n",
       "24773  Energie- und Wasserversorgung Bonn/Rhein-Sieg ...\n",
       "24774  Energie- und Wasserversorgung Bonn/Rhein-Sieg ...\n",
       "24775  Energie- und Wasserversorgung Bonn/Rhein-Sieg ...\n",
       "\n",
       "[133 rows x 1 columns]"
      ]
     },
     "execution_count": 5,
     "metadata": {},
     "output_type": "execute_result"
    }
   ],
   "source": [
    "pdai.run(df, \"Zeilen mit Betreiber im Ort Bonn\")"
   ]
  },
  {
   "attachments": {},
   "cell_type": "markdown",
   "metadata": {},
   "source": [
    "This method returned 133 rows. Now we can compare it with manual query with pandas."
   ]
  },
  {
   "cell_type": "code",
   "execution_count": 6,
   "metadata": {},
   "outputs": [
    {
     "data": {
      "text/plain": [
       "7423     Energie- und Wasserversorgung Bonn/Rhein-Sieg ...\n",
       "7424     Energie- und Wasserversorgung Bonn/Rhein-Sieg ...\n",
       "7425     Energie- und Wasserversorgung Bonn/Rhein-Sieg ...\n",
       "7426     Energie- und Wasserversorgung Bonn/Rhein-Sieg ...\n",
       "7427     Energie- und Wasserversorgung Bonn/Rhein-Sieg ...\n",
       "                               ...                        \n",
       "24771    Energie- und Wasserversorgung Bonn/Rhein-Sieg ...\n",
       "24772    Energie- und Wasserversorgung Bonn/Rhein-Sieg ...\n",
       "24773    Energie- und Wasserversorgung Bonn/Rhein-Sieg ...\n",
       "24774    Energie- und Wasserversorgung Bonn/Rhein-Sieg ...\n",
       "24775    Energie- und Wasserversorgung Bonn/Rhein-Sieg ...\n",
       "Name: betreiber, Length: 133, dtype: object"
      ]
     },
     "execution_count": 6,
     "metadata": {},
     "output_type": "execute_result"
    }
   ],
   "source": [
    "df[\"betreiber\"].loc[df[\"ort\"].str.lower() == \"bonn\"]"
   ]
  },
  {
   "attachments": {},
   "cell_type": "markdown",
   "metadata": {},
   "source": [
    "133 rows were returned with `betreiber` column, which is the vendor of the charging port. So results with pandasai was accurate. \n",
    "\n",
    "Now, lets try doing numeric queries."
   ]
  },
  {
   "cell_type": "code",
   "execution_count": 8,
   "metadata": {},
   "outputs": [
    {
     "data": {
      "text/plain": [
       "p1_kw    360.0\n",
       "p2_kw    360.0\n",
       "p3_kw    360.0\n",
       "p4_kw    360.0\n",
       "dtype: float64"
      ]
     },
     "execution_count": 8,
     "metadata": {},
     "output_type": "execute_result"
    }
   ],
   "source": [
    "df[[\"p1_kw\", \"p2_kw\", \"p3_kw\", \"p4_kw\"]].max()"
   ]
  },
  {
   "attachments": {},
   "cell_type": "markdown",
   "metadata": {},
   "source": [
    "In column `p1_kw`, there is data about max power the charging port can deliver in kilowatts. In this dataset, maximum charge power seems to be 360 kW. Now doing pandasai query, "
   ]
  },
  {
   "cell_type": "code",
   "execution_count": 9,
   "metadata": {},
   "outputs": [
    {
     "data": {
      "text/plain": [
       "360.0"
      ]
     },
     "execution_count": 9,
     "metadata": {},
     "output_type": "execute_result"
    }
   ],
   "source": [
    "pdai.run(df, \"Maximale Leistung in kW\")"
   ]
  },
  {
   "attachments": {},
   "cell_type": "markdown",
   "metadata": {},
   "source": [
    "We can see the result was accurate again. Lets try to make it generate a graph."
   ]
  },
  {
   "cell_type": "code",
   "execution_count": 14,
   "metadata": {},
   "outputs": [
    {
     "data": {
      "image/png": "[encoded data removed]",
      "text/plain": [
       "<Figure size 640x480 with 1 Axes>"
      ]
     },
     "metadata": {},
     "output_type": "display_data"
    }
   ],
   "source": [
    "pdai.run(df, \"Graphische Darstellung der Anzahl der Ladepunkte\")"
   ]
  },
  {
   "attachments": {},
   "cell_type": "markdown",
   "metadata": {},
   "source": [
    "## Breakdown\n",
    "PandasAI converts prompts into actual query code and runs the query in dataframe. This can be visualized using `verbose=True` while initialising `PandasAI` instance. "
   ]
  },
  {
   "cell_type": "code",
   "execution_count": 10,
   "metadata": {},
   "outputs": [],
   "source": [
    "pdai_verbose_breakdown = PandasAI(llm=open_ai, verbose=True)"
   ]
  },
  {
   "attachments": {},
   "cell_type": "markdown",
   "metadata": {},
   "source": [
    "Now we rerun the query and break it down."
   ]
  },
  {
   "cell_type": "code",
   "execution_count": 11,
   "metadata": {},
   "outputs": [
    {
     "name": "stdout",
     "output_type": "stream",
     "text": [
      "Running PandasAI with openai LLM...\n",
      "\n",
      "Code generated:\n",
      "```\n",
      "max_leistung = df[['p1_kw', 'p2_kw', 'p3_kw', 'p4_kw']].max().max()\n",
      "print(max_leistung)\n",
      "```\n",
      "Answer: 360.0\n",
      "Conversational answer: The maximum power output in kilowatts is 360.\n"
     ]
    },
    {
     "data": {
      "text/plain": [
       "'The maximum power output in kilowatts is 360.'"
      ]
     },
     "execution_count": 11,
     "metadata": {},
     "output_type": "execute_result"
    }
   ],
   "source": [
    "pdai_verbose_breakdown.run(df, \"Maximale Leistung in kW\")"
   ]
  },
  {
   "attachments": {},
   "cell_type": "markdown",
   "metadata": {},
   "source": [
    "You can see breakdown of workflow while generating code, running it and producing output."
   ]
  },
  {
   "attachments": {},
   "cell_type": "markdown",
   "metadata": {},
   "source": [
    "## Conclusion\n",
    "PandasAI seems to do general tasks really good and is a definitely a good tool to use in certain workloads like explorative data analysis. "
   ]
  }
 ],
 "metadata": {
  "kernelspec": {
   "display_name": "Python 3",
   "language": "python",
   "name": "python3"
  },
  "language_info": {
   "codemirror_mode": {
    "name": "ipython",
    "version": 3
   },
   "file_extension": ".py",
   "mimetype": "text/x-python",
   "name": "python",
   "nbconvert_exporter": "python",
   "pygments_lexer": "ipython3",
   "version": "3.10.9"
  },
  "orig_nbformat": 4
 },
 "nbformat": 4,
 "nbformat_minor": 2
}
